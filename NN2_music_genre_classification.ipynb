{
 "cells": [
  {
   "cell_type": "markdown",
   "id": "e5f7792e",
   "metadata": {},
   "source": [
    "# NN2 Projectwork DAT20"
   ]
  },
  {
   "cell_type": "markdown",
   "id": "218b8ff3",
   "metadata": {},
   "source": [
    "# Music Genre Classification with a CNN"
   ]
  },
  {
   "cell_type": "markdown",
   "id": "3879ff34",
   "metadata": {},
   "source": [
    "### Bahareh Kavandi & Elisabeth Oitzinger"
   ]
  },
  {
   "cell_type": "code",
   "execution_count": 106,
   "id": "46d6165c",
   "metadata": {},
   "outputs": [],
   "source": [
    "import os\n",
    "from time import sleep\n",
    "from dataclasses import replace\n",
    "import keras\n",
    "from keras.models import Sequential\n",
    "#import tensorflow as tf\n",
    "import pandas as pd\n",
    "import numpy as np\n",
    "import matplotlib.pyplot as plt\n",
    "from sklearn import preprocessing\n",
    "from sklearn.preprocessing import StandardScaler\n",
    "from sklearn.model_selection import train_test_split\n",
    "from sklearn.model_selection import KFold\n",
    "import splitfolders\n",
    "from keras.preprocessing.image import ImageDataGenerator\n",
    "from keras.models import Model, load_model\n",
    "from keras import layers\n",
    "from keras.layers import (Input, Add, Dense, Activation, ZeroPadding2D, BatchNormalization, Flatten, \n",
    "                          Conv2D, AveragePooling2D, MaxPooling2D, GlobalMaxPooling2D, Dropout)\n",
    "from tensorflow.keras.optimizers import Adam\n",
    "from keras.preprocessing.image import load_img,img_to_array\n",
    "import librosa\n",
    "from pydub import AudioSegment\n",
    "from pydub.playback import play\n"
   ]
  },
  {
   "cell_type": "markdown",
   "id": "052b5dfb",
   "metadata": {},
   "source": [
    "<b>Step 1:</b> Make new directories for the training, validation and testing dataset (80% training, 10% validation, 10% test)\n",
    "\n",
    "\n",
    "<b>Step 2:</b> Datagenerator"
   ]
  },
  {
   "cell_type": "code",
   "execution_count": 2,
   "id": "523cc242",
   "metadata": {},
   "outputs": [
    {
     "name": "stderr",
     "output_type": "stream",
     "text": [
      "Copying files: 999 files [00:00, 1504.17 files/s]\n"
     ]
    },
    {
     "name": "stdout",
     "output_type": "stream",
     "text": [
      "Found 799 images belonging to 10 classes.\n",
      "Found 99 images belonging to 10 classes.\n"
     ]
    }
   ],
   "source": [
    "splitfolders.ratio('Data/images_original', output=\"datasets\", seed=1337, ratio=(.8, 0.1, 0.1)) \n",
    "\n",
    "train_dir = \"datasets/train/\"\n",
    "train_datagenerator = ImageDataGenerator(rescale=1./255)\n",
    "train_generator = train_datagenerator.flow_from_directory(train_dir,target_size=(288,432),color_mode=\"rgba\",class_mode='categorical',batch_size=128)\n",
    "\n",
    "val_dir = \"datasets/val/\"\n",
    "val_datagenerator = ImageDataGenerator(rescale=1./255)\n",
    "val_generator = val_datagenerator.flow_from_directory(val_dir,target_size=(288,432),color_mode='rgba',class_mode='categorical',batch_size=128)\n"
   ]
  },
  {
   "cell_type": "markdown",
   "id": "e7bda19b",
   "metadata": {},
   "source": [
    "<b>Step 3:</b> Build the model (5 Convolutional layers, Dropout layer to avoid over-fitting, Dense layer with Softmax activation)"
   ]
  },
  {
   "cell_type": "code",
   "execution_count": 3,
   "id": "54ef0c3b",
   "metadata": {},
   "outputs": [],
   "source": [
    "def GenreModel(input_shape=(288,432,4), classes=10):\n",
    "    X_input = Input(input_shape)\n",
    "\n",
    "    X = Conv2D(8,kernel_size=(3,3),strides=(1,1))(X_input)\n",
    "    X = BatchNormalization(axis=3)(X)\n",
    "    X = Activation('relu')(X)\n",
    "    X = MaxPooling2D((2,2))(X)\n",
    "\n",
    "    X = Conv2D(16,kernel_size=(3,3),strides=(1,1))(X)\n",
    "    X = BatchNormalization(axis=3)(X)\n",
    "    X = Activation('relu')(X)\n",
    "    X = MaxPooling2D((2,2))(X)\n",
    "\n",
    "    X = Conv2D(32,kernel_size=(3,3),strides=(1,1))(X)\n",
    "    X = BatchNormalization(axis=3)(X)\n",
    "    X = Activation('relu')(X)\n",
    "    X = MaxPooling2D((2,2))(X)\n",
    "\n",
    "    X = Conv2D(64,kernel_size=(3,3),strides=(1,1))(X)\n",
    "    X = BatchNormalization(axis=-1)(X)\n",
    "    X = Activation('relu')(X)\n",
    "    X = MaxPooling2D((2,2))(X)\n",
    "\n",
    "    X = Conv2D(128,kernel_size=(3,3),strides=(1,1))(X)\n",
    "    X = BatchNormalization(axis=-1)(X)\n",
    "    X = Activation('relu')(X)\n",
    "    X = MaxPooling2D((2,2))(X)\n",
    "\n",
    "    X = Flatten()(X)\n",
    "    \n",
    "\n",
    "    X = Dense(X.shape[1], activation='relu', name='fc1')(X)\n",
    "    X = Dropout(0.1)(X)\n",
    "    X = Dense(256, activation='relu', name='fc3')(X)\n",
    "    X = Dropout(0.1)(X)\n",
    "    X = Dense(classes, activation='softmax', name='fc' + str(classes))(X)\n",
    "\n",
    "    model = Model(inputs=X_input,outputs=X,name='GenreModel')\n",
    "    return model"
   ]
  },
  {
   "cell_type": "markdown",
   "id": "19857f47",
   "metadata": {},
   "source": [
    "<b>Step 4:</b> Train the model"
   ]
  },
  {
   "cell_type": "code",
   "execution_count": 4,
   "id": "3694f302",
   "metadata": {},
   "outputs": [
    {
     "name": "stderr",
     "output_type": "stream",
     "text": [
      "C:\\Users\\elio9\\anaconda3\\lib\\site-packages\\keras\\engine\\training.py:1972: UserWarning: `Model.fit_generator` is deprecated and will be removed in a future version. Please use `Model.fit`, which supports generators.\n",
      "  warnings.warn('`Model.fit_generator` is deprecated and '\n"
     ]
    },
    {
     "name": "stdout",
     "output_type": "stream",
     "text": [
      "Epoch 1/250\n",
      "7/7 [==============================] - 29s 4s/step - loss: 35.5507 - accuracy: 0.1227 - val_loss: 2.3592 - val_accuracy: 0.1010\n",
      "Epoch 2/250\n",
      "7/7 [==============================] - 28s 4s/step - loss: 6.1285 - accuracy: 0.1502 - val_loss: 2.3011 - val_accuracy: 0.1010\n",
      "Epoch 3/250\n",
      "7/7 [==============================] - 27s 4s/step - loss: 2.2403 - accuracy: 0.1815 - val_loss: 2.3026 - val_accuracy: 0.1010\n",
      "Epoch 4/250\n",
      "7/7 [==============================] - 27s 4s/step - loss: 2.2397 - accuracy: 0.1640 - val_loss: 2.3018 - val_accuracy: 0.0909\n",
      "Epoch 5/250\n",
      "7/7 [==============================] - 27s 4s/step - loss: 2.2164 - accuracy: 0.1665 - val_loss: 2.3026 - val_accuracy: 0.1010\n",
      "Epoch 6/250\n",
      "7/7 [==============================] - 27s 4s/step - loss: 2.2074 - accuracy: 0.1690 - val_loss: 2.3026 - val_accuracy: 0.1010\n",
      "Epoch 7/250\n",
      "7/7 [==============================] - 27s 4s/step - loss: 2.2024 - accuracy: 0.1677 - val_loss: 2.3026 - val_accuracy: 0.1010\n",
      "Epoch 8/250\n",
      "7/7 [==============================] - 27s 4s/step - loss: 2.1771 - accuracy: 0.1665 - val_loss: 2.3026 - val_accuracy: 0.1010\n",
      "Epoch 9/250\n",
      "7/7 [==============================] - 27s 4s/step - loss: 2.1597 - accuracy: 0.1727 - val_loss: 2.3023 - val_accuracy: 0.1010\n",
      "Epoch 10/250\n",
      "7/7 [==============================] - 27s 4s/step - loss: 2.1618 - accuracy: 0.1765 - val_loss: 2.3026 - val_accuracy: 0.1010\n",
      "Epoch 11/250\n",
      "7/7 [==============================] - 27s 4s/step - loss: 2.1448 - accuracy: 0.1790 - val_loss: 2.2937 - val_accuracy: 0.1616\n",
      "Epoch 12/250\n",
      "7/7 [==============================] - 28s 4s/step - loss: 2.1540 - accuracy: 0.1740 - val_loss: 2.2957 - val_accuracy: 0.1616\n",
      "Epoch 13/250\n",
      "7/7 [==============================] - 27s 4s/step - loss: 2.1326 - accuracy: 0.1802 - val_loss: 2.2701 - val_accuracy: 0.1313\n",
      "Epoch 14/250\n",
      "7/7 [==============================] - 27s 4s/step - loss: 2.1440 - accuracy: 0.1840 - val_loss: 2.2747 - val_accuracy: 0.1717\n",
      "Epoch 15/250\n",
      "7/7 [==============================] - 27s 4s/step - loss: 2.1452 - accuracy: 0.1765 - val_loss: 2.2664 - val_accuracy: 0.1717\n",
      "Epoch 16/250\n",
      "7/7 [==============================] - 27s 4s/step - loss: 2.1465 - accuracy: 0.1752 - val_loss: 2.2786 - val_accuracy: 0.1010\n",
      "Epoch 17/250\n",
      "7/7 [==============================] - 27s 4s/step - loss: 2.1308 - accuracy: 0.1815 - val_loss: 2.2459 - val_accuracy: 0.1717\n",
      "Epoch 18/250\n",
      "7/7 [==============================] - 27s 4s/step - loss: 2.1245 - accuracy: 0.1827 - val_loss: 2.2512 - val_accuracy: 0.1717\n",
      "Epoch 19/250\n",
      "7/7 [==============================] - 27s 4s/step - loss: 2.1307 - accuracy: 0.1852 - val_loss: 2.2777 - val_accuracy: 0.1010\n",
      "Epoch 20/250\n",
      "7/7 [==============================] - 27s 4s/step - loss: 2.1209 - accuracy: 0.1965 - val_loss: 2.2982 - val_accuracy: 0.1010\n",
      "Epoch 21/250\n",
      "7/7 [==============================] - 28s 4s/step - loss: 2.1160 - accuracy: 0.2015 - val_loss: 2.3829 - val_accuracy: 0.1010\n",
      "Epoch 22/250\n",
      "7/7 [==============================] - 27s 4s/step - loss: 2.1117 - accuracy: 0.1927 - val_loss: 2.2250 - val_accuracy: 0.1818\n",
      "Epoch 23/250\n",
      "7/7 [==============================] - 27s 4s/step - loss: 2.1142 - accuracy: 0.2015 - val_loss: 2.2571 - val_accuracy: 0.2020\n",
      "Epoch 24/250\n",
      "7/7 [==============================] - 27s 4s/step - loss: 2.1189 - accuracy: 0.1815 - val_loss: 2.2228 - val_accuracy: 0.1717\n",
      "Epoch 25/250\n",
      "7/7 [==============================] - 27s 4s/step - loss: 2.1163 - accuracy: 0.1790 - val_loss: 2.2434 - val_accuracy: 0.1717\n",
      "Epoch 26/250\n",
      "7/7 [==============================] - 27s 4s/step - loss: 2.0930 - accuracy: 0.2140 - val_loss: 2.2713 - val_accuracy: 0.1010\n",
      "Epoch 27/250\n",
      "7/7 [==============================] - 27s 4s/step - loss: 2.1019 - accuracy: 0.2090 - val_loss: 2.2146 - val_accuracy: 0.1616\n",
      "Epoch 28/250\n",
      "7/7 [==============================] - 27s 4s/step - loss: 2.0950 - accuracy: 0.2153 - val_loss: 2.2364 - val_accuracy: 0.1616\n",
      "Epoch 29/250\n",
      "7/7 [==============================] - 28s 4s/step - loss: 2.0916 - accuracy: 0.2090 - val_loss: 2.2000 - val_accuracy: 0.1717\n",
      "Epoch 30/250\n",
      "7/7 [==============================] - 27s 4s/step - loss: 2.0615 - accuracy: 0.2215 - val_loss: 2.2069 - val_accuracy: 0.1717\n",
      "Epoch 31/250\n",
      "7/7 [==============================] - 27s 4s/step - loss: 2.0869 - accuracy: 0.2140 - val_loss: 2.2112 - val_accuracy: 0.1616\n",
      "Epoch 32/250\n",
      "7/7 [==============================] - 27s 4s/step - loss: 2.1318 - accuracy: 0.1802 - val_loss: 2.2327 - val_accuracy: 0.1818\n",
      "Epoch 33/250\n",
      "7/7 [==============================] - 27s 4s/step - loss: 2.1173 - accuracy: 0.1865 - val_loss: 2.2378 - val_accuracy: 0.1717\n",
      "Epoch 34/250\n",
      "7/7 [==============================] - 27s 4s/step - loss: 2.0925 - accuracy: 0.1915 - val_loss: 2.2352 - val_accuracy: 0.1717\n",
      "Epoch 35/250\n",
      "7/7 [==============================] - 27s 4s/step - loss: 2.0988 - accuracy: 0.1765 - val_loss: 2.2456 - val_accuracy: 0.1616\n",
      "Epoch 36/250\n",
      "7/7 [==============================] - 27s 4s/step - loss: 2.0724 - accuracy: 0.1952 - val_loss: 2.2164 - val_accuracy: 0.1717\n",
      "Epoch 37/250\n",
      "7/7 [==============================] - 27s 4s/step - loss: 2.0738 - accuracy: 0.2065 - val_loss: 2.2634 - val_accuracy: 0.1515\n",
      "Epoch 38/250\n",
      "7/7 [==============================] - 27s 4s/step - loss: 2.0713 - accuracy: 0.1965 - val_loss: 2.2106 - val_accuracy: 0.1717\n",
      "Epoch 39/250\n",
      "7/7 [==============================] - 27s 4s/step - loss: 2.0665 - accuracy: 0.2178 - val_loss: 2.2268 - val_accuracy: 0.1616\n",
      "Epoch 40/250\n",
      "7/7 [==============================] - 27s 4s/step - loss: 2.0542 - accuracy: 0.2278 - val_loss: 2.1837 - val_accuracy: 0.1919\n",
      "Epoch 41/250\n",
      "7/7 [==============================] - 27s 4s/step - loss: 2.0694 - accuracy: 0.2203 - val_loss: 2.2261 - val_accuracy: 0.1616\n",
      "Epoch 42/250\n",
      "7/7 [==============================] - 27s 4s/step - loss: 2.0996 - accuracy: 0.2053 - val_loss: 2.1595 - val_accuracy: 0.1717\n",
      "Epoch 43/250\n",
      "7/7 [==============================] - 28s 4s/step - loss: 2.0925 - accuracy: 0.1902 - val_loss: 2.1732 - val_accuracy: 0.1717\n",
      "Epoch 44/250\n",
      "7/7 [==============================] - 27s 4s/step - loss: 2.0804 - accuracy: 0.1902 - val_loss: 2.1684 - val_accuracy: 0.1717\n",
      "Epoch 45/250\n",
      "7/7 [==============================] - 27s 4s/step - loss: 2.0751 - accuracy: 0.2253 - val_loss: 2.1555 - val_accuracy: 0.1717\n",
      "Epoch 46/250\n",
      "7/7 [==============================] - 27s 4s/step - loss: 2.0615 - accuracy: 0.2015 - val_loss: 2.1672 - val_accuracy: 0.1818\n",
      "Epoch 47/250\n",
      "7/7 [==============================] - 27s 4s/step - loss: 2.0212 - accuracy: 0.2178 - val_loss: 2.1239 - val_accuracy: 0.1818\n",
      "Epoch 48/250\n",
      "7/7 [==============================] - 27s 4s/step - loss: 2.0110 - accuracy: 0.2315 - val_loss: 2.1506 - val_accuracy: 0.1717\n",
      "Epoch 49/250\n",
      "7/7 [==============================] - 27s 4s/step - loss: 2.0465 - accuracy: 0.2178 - val_loss: 2.1317 - val_accuracy: 0.1717\n",
      "Epoch 50/250\n",
      "7/7 [==============================] - 27s 4s/step - loss: 1.9989 - accuracy: 0.2265 - val_loss: 2.1416 - val_accuracy: 0.1818\n",
      "Epoch 51/250\n",
      "7/7 [==============================] - 27s 4s/step - loss: 1.9893 - accuracy: 0.2365 - val_loss: 2.1207 - val_accuracy: 0.1616\n",
      "Epoch 52/250\n",
      "7/7 [==============================] - 27s 4s/step - loss: 1.9725 - accuracy: 0.2428 - val_loss: 2.1313 - val_accuracy: 0.1919\n",
      "Epoch 53/250\n",
      "7/7 [==============================] - 28s 4s/step - loss: 1.9873 - accuracy: 0.2390 - val_loss: 2.1301 - val_accuracy: 0.1616\n",
      "Epoch 54/250\n",
      "7/7 [==============================] - 27s 4s/step - loss: 1.9649 - accuracy: 0.2553 - val_loss: 2.1267 - val_accuracy: 0.1515\n",
      "Epoch 55/250\n",
      "7/7 [==============================] - 27s 4s/step - loss: 1.9651 - accuracy: 0.2403 - val_loss: 2.1368 - val_accuracy: 0.1818\n",
      "Epoch 56/250\n",
      "7/7 [==============================] - 29s 4s/step - loss: 1.9698 - accuracy: 0.2065 - val_loss: 2.1458 - val_accuracy: 0.1616\n",
      "Epoch 57/250\n",
      "7/7 [==============================] - 28s 4s/step - loss: 1.9919 - accuracy: 0.2140 - val_loss: 2.1829 - val_accuracy: 0.1717\n",
      "Epoch 58/250\n",
      "7/7 [==============================] - 27s 4s/step - loss: 1.9525 - accuracy: 0.2566 - val_loss: 2.1529 - val_accuracy: 0.1616\n",
      "Epoch 59/250\n"
     ]
    },
    {
     "name": "stdout",
     "output_type": "stream",
     "text": [
      "7/7 [==============================] - 27s 4s/step - loss: 1.9394 - accuracy: 0.2503 - val_loss: 2.1737 - val_accuracy: 0.1515\n",
      "Epoch 60/250\n",
      "7/7 [==============================] - 27s 4s/step - loss: 1.9050 - accuracy: 0.2491 - val_loss: 2.2478 - val_accuracy: 0.1717\n",
      "Epoch 61/250\n",
      "7/7 [==============================] - 27s 4s/step - loss: 1.9209 - accuracy: 0.2628 - val_loss: 2.1495 - val_accuracy: 0.1313\n",
      "Epoch 62/250\n",
      "7/7 [==============================] - 27s 4s/step - loss: 1.8936 - accuracy: 0.2666 - val_loss: 2.1347 - val_accuracy: 0.1616\n",
      "Epoch 63/250\n",
      "7/7 [==============================] - 27s 4s/step - loss: 1.9213 - accuracy: 0.2315 - val_loss: 2.1373 - val_accuracy: 0.1515\n",
      "Epoch 64/250\n",
      "7/7 [==============================] - 27s 4s/step - loss: 1.8736 - accuracy: 0.2716 - val_loss: 2.1491 - val_accuracy: 0.1616\n",
      "Epoch 65/250\n",
      "7/7 [==============================] - 28s 4s/step - loss: 1.8970 - accuracy: 0.2804 - val_loss: 2.1197 - val_accuracy: 0.1313\n",
      "Epoch 66/250\n",
      "7/7 [==============================] - 27s 4s/step - loss: 1.8721 - accuracy: 0.2703 - val_loss: 2.1343 - val_accuracy: 0.1717\n",
      "Epoch 67/250\n",
      "7/7 [==============================] - 28s 4s/step - loss: 1.8963 - accuracy: 0.2491 - val_loss: 2.1174 - val_accuracy: 0.1616\n",
      "Epoch 68/250\n",
      "7/7 [==============================] - 27s 4s/step - loss: 1.8639 - accuracy: 0.2691 - val_loss: 2.0912 - val_accuracy: 0.1414\n",
      "Epoch 69/250\n",
      "7/7 [==============================] - 27s 4s/step - loss: 1.8664 - accuracy: 0.2728 - val_loss: 2.1438 - val_accuracy: 0.1616\n",
      "Epoch 70/250\n",
      "7/7 [==============================] - 27s 4s/step - loss: 1.8313 - accuracy: 0.2653 - val_loss: 2.0837 - val_accuracy: 0.1717\n",
      "Epoch 71/250\n",
      "7/7 [==============================] - 27s 4s/step - loss: 1.8486 - accuracy: 0.2578 - val_loss: 2.1183 - val_accuracy: 0.1717\n",
      "Epoch 72/250\n",
      "7/7 [==============================] - 27s 4s/step - loss: 1.8347 - accuracy: 0.2616 - val_loss: 2.1096 - val_accuracy: 0.2626\n",
      "Epoch 73/250\n",
      "7/7 [==============================] - 27s 4s/step - loss: 1.8148 - accuracy: 0.3392 - val_loss: 2.0227 - val_accuracy: 0.3030\n",
      "Epoch 74/250\n",
      "7/7 [==============================] - 27s 4s/step - loss: 1.8086 - accuracy: 0.3267 - val_loss: 2.0803 - val_accuracy: 0.3131\n",
      "Epoch 75/250\n",
      "7/7 [==============================] - 27s 4s/step - loss: 1.8029 - accuracy: 0.3367 - val_loss: 2.1085 - val_accuracy: 0.2828\n",
      "Epoch 76/250\n",
      "7/7 [==============================] - 27s 4s/step - loss: 1.7989 - accuracy: 0.3342 - val_loss: 2.1357 - val_accuracy: 0.2929\n",
      "Epoch 77/250\n",
      "7/7 [==============================] - 28s 4s/step - loss: 1.7556 - accuracy: 0.3554 - val_loss: 2.1467 - val_accuracy: 0.3434\n",
      "Epoch 78/250\n",
      "7/7 [==============================] - 27s 4s/step - loss: 1.7657 - accuracy: 0.3579 - val_loss: 2.2622 - val_accuracy: 0.2525\n",
      "Epoch 79/250\n",
      "7/7 [==============================] - 27s 4s/step - loss: 1.7282 - accuracy: 0.3655 - val_loss: 2.4949 - val_accuracy: 0.2424\n",
      "Epoch 80/250\n",
      "7/7 [==============================] - 27s 4s/step - loss: 1.6983 - accuracy: 0.3755 - val_loss: 3.8891 - val_accuracy: 0.1313\n",
      "Epoch 81/250\n",
      "7/7 [==============================] - 27s 4s/step - loss: 1.7001 - accuracy: 0.3867 - val_loss: 3.1791 - val_accuracy: 0.1616\n",
      "Epoch 82/250\n",
      "7/7 [==============================] - 27s 4s/step - loss: 1.7172 - accuracy: 0.3767 - val_loss: 5.9473 - val_accuracy: 0.1111\n",
      "Epoch 83/250\n",
      "7/7 [==============================] - 27s 4s/step - loss: 1.7200 - accuracy: 0.3742 - val_loss: 6.7601 - val_accuracy: 0.1111\n",
      "Epoch 84/250\n",
      "7/7 [==============================] - 27s 4s/step - loss: 1.7655 - accuracy: 0.3630 - val_loss: 4.4082 - val_accuracy: 0.1212\n",
      "Epoch 85/250\n",
      "7/7 [==============================] - 27s 4s/step - loss: 1.7019 - accuracy: 0.3680 - val_loss: 4.9831 - val_accuracy: 0.1111\n",
      "Epoch 86/250\n",
      "7/7 [==============================] - 28s 4s/step - loss: 1.7607 - accuracy: 0.3705 - val_loss: 3.6693 - val_accuracy: 0.1717\n",
      "Epoch 87/250\n",
      "7/7 [==============================] - 27s 4s/step - loss: 1.7886 - accuracy: 0.3479 - val_loss: 8.4829 - val_accuracy: 0.1111\n",
      "Epoch 88/250\n",
      "7/7 [==============================] - 28s 4s/step - loss: 1.6804 - accuracy: 0.4105 - val_loss: 5.0136 - val_accuracy: 0.1515\n",
      "Epoch 89/250\n",
      "7/7 [==============================] - 27s 4s/step - loss: 1.6659 - accuracy: 0.4105 - val_loss: 10.3230 - val_accuracy: 0.1212\n",
      "Epoch 90/250\n",
      "7/7 [==============================] - 29s 4s/step - loss: 1.6116 - accuracy: 0.4218 - val_loss: 7.4883 - val_accuracy: 0.1212\n",
      "Epoch 91/250\n",
      "7/7 [==============================] - 39s 6s/step - loss: 1.5565 - accuracy: 0.4406 - val_loss: 7.1203 - val_accuracy: 0.1414\n",
      "Epoch 92/250\n",
      "7/7 [==============================] - 1625s 270s/step - loss: 1.5260 - accuracy: 0.4693 - val_loss: 8.8850 - val_accuracy: 0.1919\n",
      "Epoch 93/250\n",
      "7/7 [==============================] - 32s 5s/step - loss: 1.5714 - accuracy: 0.4431 - val_loss: 8.6641 - val_accuracy: 0.1111\n",
      "Epoch 94/250\n",
      "7/7 [==============================] - 32s 4s/step - loss: 1.5573 - accuracy: 0.4493 - val_loss: 9.3308 - val_accuracy: 0.1818\n",
      "Epoch 95/250\n",
      "7/7 [==============================] - 38s 5s/step - loss: 1.5407 - accuracy: 0.4431 - val_loss: 7.8781 - val_accuracy: 0.1515\n",
      "Epoch 96/250\n",
      "7/7 [==============================] - 40s 6s/step - loss: 1.5106 - accuracy: 0.4593 - val_loss: 6.9528 - val_accuracy: 0.2121\n",
      "Epoch 97/250\n",
      "7/7 [==============================] - 41s 6s/step - loss: 1.5122 - accuracy: 0.4518 - val_loss: 6.9919 - val_accuracy: 0.2121\n",
      "Epoch 98/250\n",
      "7/7 [==============================] - 41s 6s/step - loss: 1.5336 - accuracy: 0.4268 - val_loss: 10.2204 - val_accuracy: 0.1818\n",
      "Epoch 99/250\n",
      "7/7 [==============================] - 41s 6s/step - loss: 1.4612 - accuracy: 0.4443 - val_loss: 9.2643 - val_accuracy: 0.1919\n",
      "Epoch 100/250\n",
      "7/7 [==============================] - 40s 6s/step - loss: 1.4568 - accuracy: 0.4681 - val_loss: 7.0899 - val_accuracy: 0.1919\n",
      "Epoch 101/250\n",
      "7/7 [==============================] - 41s 6s/step - loss: 1.4308 - accuracy: 0.4418 - val_loss: 8.1527 - val_accuracy: 0.1919\n",
      "Epoch 102/250\n",
      "7/7 [==============================] - 42s 6s/step - loss: 1.3924 - accuracy: 0.4556 - val_loss: 7.1205 - val_accuracy: 0.2121\n",
      "Epoch 103/250\n",
      "7/7 [==============================] - 40s 6s/step - loss: 1.3279 - accuracy: 0.4919 - val_loss: 6.0425 - val_accuracy: 0.2323\n",
      "Epoch 104/250\n",
      "7/7 [==============================] - 41s 6s/step - loss: 1.2806 - accuracy: 0.4931 - val_loss: 4.3558 - val_accuracy: 0.2727\n",
      "Epoch 105/250\n",
      "7/7 [==============================] - 40s 6s/step - loss: 1.3044 - accuracy: 0.4906 - val_loss: 5.8308 - val_accuracy: 0.2020\n",
      "Epoch 106/250\n",
      "7/7 [==============================] - 40s 5s/step - loss: 1.3093 - accuracy: 0.5019 - val_loss: 5.1052 - val_accuracy: 0.1818\n",
      "Epoch 107/250\n",
      "7/7 [==============================] - 39s 5s/step - loss: 1.3979 - accuracy: 0.4531 - val_loss: 4.9089 - val_accuracy: 0.2121\n",
      "Epoch 108/250\n",
      "7/7 [==============================] - 40s 5s/step - loss: 1.2930 - accuracy: 0.4969 - val_loss: 5.4105 - val_accuracy: 0.2222\n",
      "Epoch 109/250\n",
      "7/7 [==============================] - 39s 5s/step - loss: 1.2918 - accuracy: 0.4944 - val_loss: 6.4946 - val_accuracy: 0.2222\n",
      "Epoch 110/250\n",
      "7/7 [==============================] - 40s 6s/step - loss: 1.3137 - accuracy: 0.4969 - val_loss: 3.8462 - val_accuracy: 0.2727\n",
      "Epoch 111/250\n",
      "7/7 [==============================] - 43s 6s/step - loss: 1.2289 - accuracy: 0.5106 - val_loss: 2.9945 - val_accuracy: 0.3030\n",
      "Epoch 112/250\n",
      "7/7 [==============================] - 41s 6s/step - loss: 1.2172 - accuracy: 0.4931 - val_loss: 3.4756 - val_accuracy: 0.2727\n",
      "Epoch 113/250\n",
      "7/7 [==============================] - 43s 6s/step - loss: 1.1796 - accuracy: 0.5169 - val_loss: 3.5987 - val_accuracy: 0.2929\n",
      "Epoch 114/250\n",
      "7/7 [==============================] - 41s 6s/step - loss: 1.2233 - accuracy: 0.4994 - val_loss: 2.4505 - val_accuracy: 0.3636\n",
      "Epoch 115/250\n",
      "7/7 [==============================] - 42s 6s/step - loss: 1.1476 - accuracy: 0.5294 - val_loss: 1.9800 - val_accuracy: 0.3333\n",
      "Epoch 116/250\n",
      "7/7 [==============================] - 42s 6s/step - loss: 1.1301 - accuracy: 0.5119 - val_loss: 2.6074 - val_accuracy: 0.3737\n",
      "Epoch 117/250\n"
     ]
    },
    {
     "name": "stdout",
     "output_type": "stream",
     "text": [
      "7/7 [==============================] - 38s 5s/step - loss: 1.1267 - accuracy: 0.5244 - val_loss: 2.1448 - val_accuracy: 0.4141\n",
      "Epoch 118/250\n",
      "7/7 [==============================] - 39s 5s/step - loss: 1.0953 - accuracy: 0.5207 - val_loss: 2.0865 - val_accuracy: 0.2929\n",
      "Epoch 119/250\n",
      "7/7 [==============================] - 38s 5s/step - loss: 1.1301 - accuracy: 0.5344 - val_loss: 3.7449 - val_accuracy: 0.3030\n",
      "Epoch 120/250\n",
      "7/7 [==============================] - 38s 5s/step - loss: 1.0811 - accuracy: 0.5357 - val_loss: 2.1180 - val_accuracy: 0.3535\n",
      "Epoch 121/250\n",
      "7/7 [==============================] - 39s 5s/step - loss: 1.0854 - accuracy: 0.5294 - val_loss: 4.8443 - val_accuracy: 0.2727\n",
      "Epoch 122/250\n",
      "7/7 [==============================] - 39s 5s/step - loss: 1.1027 - accuracy: 0.5294 - val_loss: 2.7561 - val_accuracy: 0.3131\n",
      "Epoch 123/250\n",
      "7/7 [==============================] - 38s 5s/step - loss: 0.9939 - accuracy: 0.6008 - val_loss: 4.0904 - val_accuracy: 0.2727\n",
      "Epoch 124/250\n",
      "7/7 [==============================] - 39s 5s/step - loss: 0.9987 - accuracy: 0.6333 - val_loss: 4.1638 - val_accuracy: 0.2525\n",
      "Epoch 125/250\n",
      "7/7 [==============================] - 38s 6s/step - loss: 1.0068 - accuracy: 0.6195 - val_loss: 5.2443 - val_accuracy: 0.2525\n",
      "Epoch 126/250\n",
      "7/7 [==============================] - 38s 6s/step - loss: 1.0063 - accuracy: 0.6345 - val_loss: 4.6280 - val_accuracy: 0.2525\n",
      "Epoch 127/250\n",
      "7/7 [==============================] - 40s 5s/step - loss: 1.0233 - accuracy: 0.6333 - val_loss: 3.8272 - val_accuracy: 0.2929\n",
      "Epoch 128/250\n",
      "7/7 [==============================] - 39s 5s/step - loss: 0.9980 - accuracy: 0.6208 - val_loss: 3.6387 - val_accuracy: 0.2525\n",
      "Epoch 129/250\n",
      "7/7 [==============================] - 39s 5s/step - loss: 0.9699 - accuracy: 0.6408 - val_loss: 3.6501 - val_accuracy: 0.2727\n",
      "Epoch 130/250\n",
      "7/7 [==============================] - 38s 6s/step - loss: 0.9437 - accuracy: 0.6370 - val_loss: 4.8940 - val_accuracy: 0.2828\n",
      "Epoch 131/250\n",
      "7/7 [==============================] - 42s 6s/step - loss: 0.9506 - accuracy: 0.6370 - val_loss: 4.6028 - val_accuracy: 0.2727\n",
      "Epoch 132/250\n",
      "7/7 [==============================] - 41s 6s/step - loss: 0.9112 - accuracy: 0.6621 - val_loss: 5.1770 - val_accuracy: 0.3030\n",
      "Epoch 133/250\n",
      "7/7 [==============================] - 40s 6s/step - loss: 0.9384 - accuracy: 0.6746 - val_loss: 3.3956 - val_accuracy: 0.3232\n",
      "Epoch 134/250\n",
      "7/7 [==============================] - 40s 6s/step - loss: 0.9534 - accuracy: 0.6458 - val_loss: 4.7518 - val_accuracy: 0.2525\n",
      "Epoch 135/250\n",
      "7/7 [==============================] - 39s 5s/step - loss: 1.0485 - accuracy: 0.6270 - val_loss: 3.3340 - val_accuracy: 0.2424\n",
      "Epoch 136/250\n",
      "7/7 [==============================] - 38s 5s/step - loss: 0.9661 - accuracy: 0.6633 - val_loss: 3.2186 - val_accuracy: 0.3333\n",
      "Epoch 137/250\n",
      "7/7 [==============================] - 38s 6s/step - loss: 0.9101 - accuracy: 0.6996 - val_loss: 3.7050 - val_accuracy: 0.3131\n",
      "Epoch 138/250\n",
      "7/7 [==============================] - 39s 5s/step - loss: 0.8470 - accuracy: 0.6984 - val_loss: 3.5828 - val_accuracy: 0.3636\n",
      "Epoch 139/250\n",
      "7/7 [==============================] - 39s 5s/step - loss: 0.8693 - accuracy: 0.7297 - val_loss: 3.8044 - val_accuracy: 0.3838\n",
      "Epoch 140/250\n",
      "7/7 [==============================] - 41s 6s/step - loss: 0.8486 - accuracy: 0.7209 - val_loss: 3.6012 - val_accuracy: 0.3737\n",
      "Epoch 141/250\n",
      "7/7 [==============================] - 39s 5s/step - loss: 0.8188 - accuracy: 0.7409 - val_loss: 4.3991 - val_accuracy: 0.3232\n",
      "Epoch 142/250\n",
      "7/7 [==============================] - 39s 5s/step - loss: 0.8517 - accuracy: 0.7384 - val_loss: 3.9345 - val_accuracy: 0.3737\n",
      "Epoch 143/250\n",
      "7/7 [==============================] - 40s 6s/step - loss: 0.8167 - accuracy: 0.7334 - val_loss: 2.8647 - val_accuracy: 0.4444\n",
      "Epoch 144/250\n",
      "7/7 [==============================] - 42s 6s/step - loss: 0.7950 - accuracy: 0.7610 - val_loss: 2.5879 - val_accuracy: 0.4646\n",
      "Epoch 145/250\n",
      "7/7 [==============================] - 40s 6s/step - loss: 0.7611 - accuracy: 0.7597 - val_loss: 3.3511 - val_accuracy: 0.4040\n",
      "Epoch 146/250\n",
      "7/7 [==============================] - 41s 6s/step - loss: 0.7435 - accuracy: 0.7685 - val_loss: 2.7198 - val_accuracy: 0.4343\n",
      "Epoch 147/250\n",
      "7/7 [==============================] - 39s 6s/step - loss: 0.7650 - accuracy: 0.7635 - val_loss: 3.0763 - val_accuracy: 0.3838\n",
      "Epoch 148/250\n",
      "7/7 [==============================] - 39s 5s/step - loss: 0.7192 - accuracy: 0.7985 - val_loss: 3.1101 - val_accuracy: 0.3636\n",
      "Epoch 149/250\n",
      "7/7 [==============================] - 41s 6s/step - loss: 0.7218 - accuracy: 0.7797 - val_loss: 2.6569 - val_accuracy: 0.3939\n",
      "Epoch 150/250\n",
      "7/7 [==============================] - 39s 5s/step - loss: 0.6843 - accuracy: 0.7922 - val_loss: 2.7793 - val_accuracy: 0.3939\n",
      "Epoch 151/250\n",
      "7/7 [==============================] - 41s 6s/step - loss: 0.7054 - accuracy: 0.7985 - val_loss: 3.1498 - val_accuracy: 0.3636\n",
      "Epoch 152/250\n",
      "7/7 [==============================] - 39s 5s/step - loss: 0.6961 - accuracy: 0.7847 - val_loss: 4.6268 - val_accuracy: 0.2626\n",
      "Epoch 153/250\n",
      "7/7 [==============================] - 41s 6s/step - loss: 0.6650 - accuracy: 0.8035 - val_loss: 5.6811 - val_accuracy: 0.2727\n",
      "Epoch 154/250\n",
      "7/7 [==============================] - 42s 6s/step - loss: 0.6423 - accuracy: 0.7960 - val_loss: 6.8508 - val_accuracy: 0.2626\n",
      "Epoch 155/250\n",
      "7/7 [==============================] - 42s 7s/step - loss: 0.6833 - accuracy: 0.8073 - val_loss: 3.3849 - val_accuracy: 0.3535\n",
      "Epoch 156/250\n",
      "7/7 [==============================] - 39s 6s/step - loss: 0.6129 - accuracy: 0.8135 - val_loss: 4.0716 - val_accuracy: 0.2525\n",
      "Epoch 157/250\n",
      "7/7 [==============================] - 38s 5s/step - loss: 0.5712 - accuracy: 0.8298 - val_loss: 4.6507 - val_accuracy: 0.2626\n",
      "Epoch 158/250\n",
      "7/7 [==============================] - 40s 6s/step - loss: 0.5835 - accuracy: 0.8436 - val_loss: 4.8685 - val_accuracy: 0.2727\n",
      "Epoch 159/250\n",
      "7/7 [==============================] - 42s 6s/step - loss: 0.5433 - accuracy: 0.8536 - val_loss: 6.6305 - val_accuracy: 0.2727\n",
      "Epoch 160/250\n",
      "7/7 [==============================] - 41s 6s/step - loss: 0.5164 - accuracy: 0.8598 - val_loss: 4.4166 - val_accuracy: 0.3636\n",
      "Epoch 161/250\n",
      "7/7 [==============================] - 39s 5s/step - loss: 0.4900 - accuracy: 0.8723 - val_loss: 3.9973 - val_accuracy: 0.3434\n",
      "Epoch 162/250\n",
      "7/7 [==============================] - 39s 5s/step - loss: 0.4709 - accuracy: 0.8711 - val_loss: 3.2869 - val_accuracy: 0.3636\n",
      "Epoch 163/250\n",
      "7/7 [==============================] - 41s 6s/step - loss: 0.4405 - accuracy: 0.8786 - val_loss: 5.4550 - val_accuracy: 0.2525\n",
      "Epoch 164/250\n",
      "7/7 [==============================] - 40s 6s/step - loss: 0.4545 - accuracy: 0.8673 - val_loss: 4.0901 - val_accuracy: 0.3030\n",
      "Epoch 165/250\n",
      "7/7 [==============================] - 40s 6s/step - loss: 0.4144 - accuracy: 0.8761 - val_loss: 6.3844 - val_accuracy: 0.2424\n",
      "Epoch 166/250\n",
      "7/7 [==============================] - 39s 5s/step - loss: 0.4501 - accuracy: 0.8598 - val_loss: 6.1890 - val_accuracy: 0.2020\n",
      "Epoch 167/250\n",
      "7/7 [==============================] - 40s 5s/step - loss: 0.4379 - accuracy: 0.8661 - val_loss: 7.5872 - val_accuracy: 0.2020\n",
      "Epoch 168/250\n",
      "7/7 [==============================] - 40s 6s/step - loss: 0.3698 - accuracy: 0.8886 - val_loss: 9.3877 - val_accuracy: 0.1616\n",
      "Epoch 169/250\n",
      "7/7 [==============================] - 38s 5s/step - loss: 0.3635 - accuracy: 0.8798 - val_loss: 6.9941 - val_accuracy: 0.2121\n",
      "Epoch 170/250\n",
      "7/7 [==============================] - 39s 5s/step - loss: 0.3256 - accuracy: 0.8999 - val_loss: 6.6201 - val_accuracy: 0.2323\n",
      "Epoch 171/250\n",
      "7/7 [==============================] - 38s 5s/step - loss: 0.3163 - accuracy: 0.8911 - val_loss: 5.0428 - val_accuracy: 0.3838\n",
      "Epoch 172/250\n",
      "7/7 [==============================] - 39s 5s/step - loss: 0.3506 - accuracy: 0.8961 - val_loss: 3.2579 - val_accuracy: 0.4141\n",
      "Epoch 173/250\n",
      "7/7 [==============================] - 39s 5s/step - loss: 0.3805 - accuracy: 0.8798 - val_loss: 2.3387 - val_accuracy: 0.4343\n",
      "Epoch 174/250\n",
      "7/7 [==============================] - 38s 5s/step - loss: 0.3351 - accuracy: 0.8861 - val_loss: 2.7152 - val_accuracy: 0.4747\n",
      "Epoch 175/250\n"
     ]
    },
    {
     "name": "stdout",
     "output_type": "stream",
     "text": [
      "7/7 [==============================] - 38s 5s/step - loss: 0.3166 - accuracy: 0.8961 - val_loss: 2.6584 - val_accuracy: 0.4141\n",
      "Epoch 176/250\n",
      "7/7 [==============================] - 38s 6s/step - loss: 0.3011 - accuracy: 0.9011 - val_loss: 3.6288 - val_accuracy: 0.4949\n",
      "Epoch 177/250\n",
      "7/7 [==============================] - 39s 5s/step - loss: 0.3075 - accuracy: 0.8924 - val_loss: 3.9879 - val_accuracy: 0.4444\n",
      "Epoch 178/250\n",
      "7/7 [==============================] - 38s 5s/step - loss: 0.3255 - accuracy: 0.8861 - val_loss: 3.5791 - val_accuracy: 0.4545\n",
      "Epoch 179/250\n",
      "7/7 [==============================] - 38s 5s/step - loss: 0.2791 - accuracy: 0.8974 - val_loss: 4.8462 - val_accuracy: 0.3737\n",
      "Epoch 180/250\n",
      "7/7 [==============================] - 39s 5s/step - loss: 0.2490 - accuracy: 0.9111 - val_loss: 3.9327 - val_accuracy: 0.4343\n",
      "Epoch 181/250\n",
      "7/7 [==============================] - 38s 5s/step - loss: 0.2570 - accuracy: 0.9124 - val_loss: 3.3539 - val_accuracy: 0.4747\n",
      "Epoch 182/250\n",
      "7/7 [==============================] - 38s 6s/step - loss: 0.3367 - accuracy: 0.8824 - val_loss: 3.5612 - val_accuracy: 0.4242\n",
      "Epoch 183/250\n",
      "7/7 [==============================] - 38s 5s/step - loss: 0.2778 - accuracy: 0.9099 - val_loss: 6.9400 - val_accuracy: 0.2727\n",
      "Epoch 184/250\n",
      "7/7 [==============================] - 38s 6s/step - loss: 0.2289 - accuracy: 0.9274 - val_loss: 5.6996 - val_accuracy: 0.3030\n",
      "Epoch 185/250\n",
      "7/7 [==============================] - 38s 5s/step - loss: 0.2503 - accuracy: 0.9111 - val_loss: 5.2030 - val_accuracy: 0.3232\n",
      "Epoch 186/250\n",
      "7/7 [==============================] - 39s 5s/step - loss: 0.2186 - accuracy: 0.9212 - val_loss: 3.1611 - val_accuracy: 0.4646\n",
      "Epoch 187/250\n",
      "7/7 [==============================] - 38s 5s/step - loss: 0.2481 - accuracy: 0.9199 - val_loss: 3.0892 - val_accuracy: 0.4545\n",
      "Epoch 188/250\n",
      "7/7 [==============================] - 39s 5s/step - loss: 0.1921 - accuracy: 0.9412 - val_loss: 3.4444 - val_accuracy: 0.4040\n",
      "Epoch 189/250\n",
      "7/7 [==============================] - 40s 6s/step - loss: 0.1758 - accuracy: 0.9424 - val_loss: 4.9401 - val_accuracy: 0.2929\n",
      "Epoch 190/250\n",
      "7/7 [==============================] - 42s 6s/step - loss: 0.2392 - accuracy: 0.9237 - val_loss: 2.8583 - val_accuracy: 0.4747\n",
      "Epoch 191/250\n",
      "7/7 [==============================] - 41s 6s/step - loss: 0.2304 - accuracy: 0.9299 - val_loss: 5.5577 - val_accuracy: 0.3333\n",
      "Epoch 192/250\n",
      "7/7 [==============================] - 41s 6s/step - loss: 0.2314 - accuracy: 0.9224 - val_loss: 3.8270 - val_accuracy: 0.4343\n",
      "Epoch 193/250\n",
      "7/7 [==============================] - 40s 6s/step - loss: 0.1707 - accuracy: 0.9399 - val_loss: 6.4567 - val_accuracy: 0.3333\n",
      "Epoch 194/250\n",
      "7/7 [==============================] - 38s 6s/step - loss: 0.1568 - accuracy: 0.9512 - val_loss: 4.2751 - val_accuracy: 0.4040\n",
      "Epoch 195/250\n",
      "7/7 [==============================] - 42s 6s/step - loss: 0.1867 - accuracy: 0.9399 - val_loss: 2.7795 - val_accuracy: 0.5253\n",
      "Epoch 196/250\n",
      "7/7 [==============================] - 40s 5s/step - loss: 0.2027 - accuracy: 0.9299 - val_loss: 4.0427 - val_accuracy: 0.3737\n",
      "Epoch 197/250\n",
      "7/7 [==============================] - 38s 5s/step - loss: 0.1941 - accuracy: 0.9412 - val_loss: 3.9478 - val_accuracy: 0.4141\n",
      "Epoch 198/250\n",
      "7/7 [==============================] - 38s 6s/step - loss: 0.1958 - accuracy: 0.9424 - val_loss: 5.8665 - val_accuracy: 0.3636\n",
      "Epoch 199/250\n",
      "7/7 [==============================] - 38s 5s/step - loss: 0.1944 - accuracy: 0.9399 - val_loss: 5.1317 - val_accuracy: 0.3939\n",
      "Epoch 200/250\n",
      "7/7 [==============================] - 38s 5s/step - loss: 0.1767 - accuracy: 0.9437 - val_loss: 5.6258 - val_accuracy: 0.4141\n",
      "Epoch 201/250\n",
      "7/7 [==============================] - 38s 5s/step - loss: 0.1678 - accuracy: 0.9437 - val_loss: 3.8166 - val_accuracy: 0.4646\n",
      "Epoch 202/250\n",
      "7/7 [==============================] - 40s 5s/step - loss: 0.1796 - accuracy: 0.9537 - val_loss: 4.7465 - val_accuracy: 0.5152\n",
      "Epoch 203/250\n",
      "7/7 [==============================] - 39s 5s/step - loss: 0.1612 - accuracy: 0.9449 - val_loss: 4.6730 - val_accuracy: 0.4444\n",
      "Epoch 204/250\n",
      "7/7 [==============================] - 38s 5s/step - loss: 0.1373 - accuracy: 0.9625 - val_loss: 3.8545 - val_accuracy: 0.5253\n",
      "Epoch 205/250\n",
      "7/7 [==============================] - 38s 6s/step - loss: 0.1189 - accuracy: 0.9587 - val_loss: 2.7023 - val_accuracy: 0.5455\n",
      "Epoch 206/250\n",
      "7/7 [==============================] - 38s 5s/step - loss: 0.1414 - accuracy: 0.9637 - val_loss: 2.6414 - val_accuracy: 0.4848\n",
      "Epoch 207/250\n",
      "7/7 [==============================] - 38s 5s/step - loss: 0.1404 - accuracy: 0.9662 - val_loss: 2.7243 - val_accuracy: 0.5152\n",
      "Epoch 208/250\n",
      "7/7 [==============================] - 39s 5s/step - loss: 0.0770 - accuracy: 0.9775 - val_loss: 2.3852 - val_accuracy: 0.5556\n",
      "Epoch 209/250\n",
      "7/7 [==============================] - 40s 6s/step - loss: 0.0958 - accuracy: 0.9762 - val_loss: 2.3733 - val_accuracy: 0.5152\n",
      "Epoch 210/250\n",
      "7/7 [==============================] - 40s 6s/step - loss: 0.1158 - accuracy: 0.9750 - val_loss: 2.3949 - val_accuracy: 0.4848\n",
      "Epoch 211/250\n",
      "7/7 [==============================] - 39s 6s/step - loss: 0.1402 - accuracy: 0.9562 - val_loss: 2.7830 - val_accuracy: 0.5152\n",
      "Epoch 212/250\n",
      "7/7 [==============================] - 39s 6s/step - loss: 0.0763 - accuracy: 0.9825 - val_loss: 2.7881 - val_accuracy: 0.5354\n",
      "Epoch 213/250\n",
      "7/7 [==============================] - 40s 5s/step - loss: 0.1133 - accuracy: 0.9737 - val_loss: 2.9474 - val_accuracy: 0.5556\n",
      "Epoch 214/250\n",
      "7/7 [==============================] - 39s 5s/step - loss: 0.1020 - accuracy: 0.9762 - val_loss: 3.1333 - val_accuracy: 0.5758\n",
      "Epoch 215/250\n",
      "7/7 [==============================] - 39s 6s/step - loss: 0.0842 - accuracy: 0.9775 - val_loss: 3.1684 - val_accuracy: 0.5556\n",
      "Epoch 216/250\n",
      "7/7 [==============================] - 40s 5s/step - loss: 0.0813 - accuracy: 0.9800 - val_loss: 4.0064 - val_accuracy: 0.5556\n",
      "Epoch 217/250\n",
      "7/7 [==============================] - 38s 5s/step - loss: 0.0851 - accuracy: 0.9737 - val_loss: 2.7021 - val_accuracy: 0.5354\n",
      "Epoch 218/250\n",
      "7/7 [==============================] - 39s 5s/step - loss: 0.1064 - accuracy: 0.9700 - val_loss: 2.3837 - val_accuracy: 0.5657\n",
      "Epoch 219/250\n",
      "7/7 [==============================] - 38s 5s/step - loss: 0.0817 - accuracy: 0.9775 - val_loss: 2.2967 - val_accuracy: 0.5859\n",
      "Epoch 220/250\n",
      "7/7 [==============================] - 39s 5s/step - loss: 0.0850 - accuracy: 0.9800 - val_loss: 2.6109 - val_accuracy: 0.5455\n",
      "Epoch 221/250\n",
      "7/7 [==============================] - 38s 5s/step - loss: 0.0812 - accuracy: 0.9725 - val_loss: 3.4825 - val_accuracy: 0.5354\n",
      "Epoch 222/250\n",
      "7/7 [==============================] - 39s 5s/step - loss: 0.0843 - accuracy: 0.9787 - val_loss: 2.7997 - val_accuracy: 0.5556\n",
      "Epoch 223/250\n",
      "7/7 [==============================] - 40s 6s/step - loss: 0.0793 - accuracy: 0.9812 - val_loss: 2.8094 - val_accuracy: 0.5758\n",
      "Epoch 224/250\n",
      "7/7 [==============================] - 42s 6s/step - loss: 0.0915 - accuracy: 0.9775 - val_loss: 3.2192 - val_accuracy: 0.5354\n",
      "Epoch 225/250\n",
      "7/7 [==============================] - 41s 6s/step - loss: 0.0817 - accuracy: 0.9800 - val_loss: 3.6059 - val_accuracy: 0.5152\n",
      "Epoch 226/250\n",
      "7/7 [==============================] - 42s 6s/step - loss: 0.1058 - accuracy: 0.9687 - val_loss: 4.9423 - val_accuracy: 0.4444\n",
      "Epoch 227/250\n",
      "7/7 [==============================] - 40s 5s/step - loss: 0.1264 - accuracy: 0.9599 - val_loss: 3.7768 - val_accuracy: 0.5051\n",
      "Epoch 228/250\n",
      "7/7 [==============================] - 40s 6s/step - loss: 0.1336 - accuracy: 0.9549 - val_loss: 3.5032 - val_accuracy: 0.5253\n",
      "Epoch 229/250\n",
      "7/7 [==============================] - 39s 5s/step - loss: 0.1087 - accuracy: 0.9700 - val_loss: 4.3716 - val_accuracy: 0.4545\n",
      "Epoch 230/250\n",
      "7/7 [==============================] - 41s 6s/step - loss: 0.0973 - accuracy: 0.9775 - val_loss: 3.4818 - val_accuracy: 0.4343\n",
      "Epoch 231/250\n",
      "7/7 [==============================] - 41s 6s/step - loss: 0.1028 - accuracy: 0.9775 - val_loss: 4.3538 - val_accuracy: 0.4343\n",
      "Epoch 232/250\n",
      "7/7 [==============================] - 39s 6s/step - loss: 0.0751 - accuracy: 0.9750 - val_loss: 6.6946 - val_accuracy: 0.3434\n",
      "Epoch 233/250\n"
     ]
    },
    {
     "name": "stdout",
     "output_type": "stream",
     "text": [
      "7/7 [==============================] - 39s 5s/step - loss: 0.0616 - accuracy: 0.9850 - val_loss: 6.3032 - val_accuracy: 0.2929\n",
      "Epoch 234/250\n",
      "7/7 [==============================] - 40s 6s/step - loss: 0.0644 - accuracy: 0.9862 - val_loss: 6.0669 - val_accuracy: 0.3333\n",
      "Epoch 235/250\n",
      "7/7 [==============================] - 41s 6s/step - loss: 0.0806 - accuracy: 0.9787 - val_loss: 3.0731 - val_accuracy: 0.4848\n",
      "Epoch 236/250\n",
      "7/7 [==============================] - 39s 5s/step - loss: 0.0716 - accuracy: 0.9775 - val_loss: 4.3320 - val_accuracy: 0.4040\n",
      "Epoch 237/250\n",
      "7/7 [==============================] - 40s 6s/step - loss: 0.1034 - accuracy: 0.9675 - val_loss: 4.4143 - val_accuracy: 0.3939\n",
      "Epoch 238/250\n",
      "7/7 [==============================] - 39s 5s/step - loss: 0.0845 - accuracy: 0.9800 - val_loss: 4.2990 - val_accuracy: 0.4949\n",
      "Epoch 239/250\n",
      "7/7 [==============================] - 38s 6s/step - loss: 0.0820 - accuracy: 0.9812 - val_loss: 5.2422 - val_accuracy: 0.4242\n",
      "Epoch 240/250\n",
      "7/7 [==============================] - 38s 6s/step - loss: 0.0557 - accuracy: 0.9862 - val_loss: 2.8192 - val_accuracy: 0.5455\n",
      "Epoch 241/250\n",
      "7/7 [==============================] - 40s 6s/step - loss: 0.0713 - accuracy: 0.9825 - val_loss: 3.4898 - val_accuracy: 0.5051\n",
      "Epoch 242/250\n",
      "7/7 [==============================] - 39s 5s/step - loss: 0.0566 - accuracy: 0.9837 - val_loss: 2.7752 - val_accuracy: 0.5960\n",
      "Epoch 243/250\n",
      "7/7 [==============================] - 39s 5s/step - loss: 0.0570 - accuracy: 0.9862 - val_loss: 2.7338 - val_accuracy: 0.5556\n",
      "Epoch 244/250\n",
      "7/7 [==============================] - 39s 5s/step - loss: 0.0483 - accuracy: 0.9862 - val_loss: 2.6428 - val_accuracy: 0.6364\n",
      "Epoch 245/250\n",
      "7/7 [==============================] - 39s 5s/step - loss: 0.0513 - accuracy: 0.9900 - val_loss: 2.8059 - val_accuracy: 0.5556\n",
      "Epoch 246/250\n",
      "7/7 [==============================] - 38s 5s/step - loss: 0.0469 - accuracy: 0.9875 - val_loss: 2.6705 - val_accuracy: 0.5960\n",
      "Epoch 247/250\n",
      "7/7 [==============================] - 39s 5s/step - loss: 0.0587 - accuracy: 0.9875 - val_loss: 2.4891 - val_accuracy: 0.6162\n",
      "Epoch 248/250\n",
      "7/7 [==============================] - 39s 5s/step - loss: 0.0436 - accuracy: 0.9925 - val_loss: 2.8727 - val_accuracy: 0.5859\n",
      "Epoch 249/250\n",
      "7/7 [==============================] - 41s 6s/step - loss: 0.0534 - accuracy: 0.9850 - val_loss: 3.0853 - val_accuracy: 0.5556\n",
      "Epoch 250/250\n",
      "7/7 [==============================] - 39s 5s/step - loss: 0.0648 - accuracy: 0.9837 - val_loss: 2.6864 - val_accuracy: 0.5758\n"
     ]
    }
   ],
   "source": [
    "model = GenreModel()\n",
    "opt = Adam(learning_rate=0.0005)\n",
    "model.compile(opt, loss='categorical_crossentropy', metrics=['accuracy']) \n",
    "\n",
    "history = model.fit_generator(train_generator, epochs= 250, validation_data=val_generator)"
   ]
  },
  {
   "cell_type": "code",
   "execution_count": 5,
   "id": "72b68309",
   "metadata": {},
   "outputs": [
    {
     "name": "stdout",
     "output_type": "stream",
     "text": [
      "Model: \"GenreModel\"\n",
      "_________________________________________________________________\n",
      "Layer (type)                 Output Shape              Param #   \n",
      "=================================================================\n",
      "input_1 (InputLayer)         [(None, 288, 432, 4)]     0         \n",
      "_________________________________________________________________\n",
      "conv2d (Conv2D)              (None, 286, 430, 8)       296       \n",
      "_________________________________________________________________\n",
      "batch_normalization (BatchNo (None, 286, 430, 8)       32        \n",
      "_________________________________________________________________\n",
      "activation (Activation)      (None, 286, 430, 8)       0         \n",
      "_________________________________________________________________\n",
      "max_pooling2d (MaxPooling2D) (None, 143, 215, 8)       0         \n",
      "_________________________________________________________________\n",
      "conv2d_1 (Conv2D)            (None, 141, 213, 16)      1168      \n",
      "_________________________________________________________________\n",
      "batch_normalization_1 (Batch (None, 141, 213, 16)      64        \n",
      "_________________________________________________________________\n",
      "activation_1 (Activation)    (None, 141, 213, 16)      0         \n",
      "_________________________________________________________________\n",
      "max_pooling2d_1 (MaxPooling2 (None, 70, 106, 16)       0         \n",
      "_________________________________________________________________\n",
      "conv2d_2 (Conv2D)            (None, 68, 104, 32)       4640      \n",
      "_________________________________________________________________\n",
      "batch_normalization_2 (Batch (None, 68, 104, 32)       128       \n",
      "_________________________________________________________________\n",
      "activation_2 (Activation)    (None, 68, 104, 32)       0         \n",
      "_________________________________________________________________\n",
      "max_pooling2d_2 (MaxPooling2 (None, 34, 52, 32)        0         \n",
      "_________________________________________________________________\n",
      "conv2d_3 (Conv2D)            (None, 32, 50, 64)        18496     \n",
      "_________________________________________________________________\n",
      "batch_normalization_3 (Batch (None, 32, 50, 64)        256       \n",
      "_________________________________________________________________\n",
      "activation_3 (Activation)    (None, 32, 50, 64)        0         \n",
      "_________________________________________________________________\n",
      "max_pooling2d_3 (MaxPooling2 (None, 16, 25, 64)        0         \n",
      "_________________________________________________________________\n",
      "conv2d_4 (Conv2D)            (None, 14, 23, 128)       73856     \n",
      "_________________________________________________________________\n",
      "batch_normalization_4 (Batch (None, 14, 23, 128)       512       \n",
      "_________________________________________________________________\n",
      "activation_4 (Activation)    (None, 14, 23, 128)       0         \n",
      "_________________________________________________________________\n",
      "max_pooling2d_4 (MaxPooling2 (None, 7, 11, 128)        0         \n",
      "_________________________________________________________________\n",
      "flatten (Flatten)            (None, 9856)              0         \n",
      "_________________________________________________________________\n",
      "fc1 (Dense)                  (None, 9856)              97150592  \n",
      "_________________________________________________________________\n",
      "dropout (Dropout)            (None, 9856)              0         \n",
      "_________________________________________________________________\n",
      "fc3 (Dense)                  (None, 256)               2523392   \n",
      "_________________________________________________________________\n",
      "dropout_1 (Dropout)          (None, 256)               0         \n",
      "_________________________________________________________________\n",
      "fc10 (Dense)                 (None, 10)                2570      \n",
      "=================================================================\n",
      "Total params: 99,776,002\n",
      "Trainable params: 99,775,506\n",
      "Non-trainable params: 496\n",
      "_________________________________________________________________\n",
      "None\n"
     ]
    }
   ],
   "source": [
    "print(model.summary())"
   ]
  },
  {
   "cell_type": "code",
   "execution_count": 6,
   "id": "bab7d822",
   "metadata": {},
   "outputs": [
    {
     "data": {
      "image/png": "[encoded data removed]",
      "text/plain": [
       "<Figure size 432x288 with 1 Axes>"
      ]
     },
     "metadata": {
      "needs_background": "light"
     },
     "output_type": "display_data"
    }
   ],
   "source": [
    "plt.plot(history.history['accuracy'])\n",
    "plt.plot(history.history['val_accuracy'])\n",
    "plt.title('model accuracy')\n",
    "plt.ylabel('accuracy')\n",
    "plt.xlabel('epoch')\n",
    "plt.legend(['train', 'val'], loc='upper left')\n",
    "plt.show()"
   ]
  },
  {
   "cell_type": "code",
   "execution_count": 7,
   "id": "fd850b37",
   "metadata": {},
   "outputs": [
    {
     "name": "stdout",
     "output_type": "stream",
     "text": [
      "Found 101 images belonging to 10 classes.\n"
     ]
    }
   ],
   "source": [
    "test_dir = \"datasets/test/\"\n",
    "test_datagenerator = ImageDataGenerator(rescale=1./255)\n",
    "test_generator = test_datagenerator.flow_from_directory(test_dir,target_size=(288,432),color_mode='rgba',class_mode='categorical',batch_size=128)"
   ]
  },
  {
   "cell_type": "code",
   "execution_count": 10,
   "id": "17475b39",
   "metadata": {},
   "outputs": [
    {
     "name": "stdout",
     "output_type": "stream",
     "text": [
      "Evaluate on test data\n",
      "1/1 [==============================] - 2s 2s/step - loss: 2.2539 - accuracy: 0.6733\n"
     ]
    },
    {
     "data": {
      "text/plain": [
       "[2.253910541534424, 0.6732673048973083]"
      ]
     },
     "execution_count": 10,
     "metadata": {},
     "output_type": "execute_result"
    }
   ],
   "source": [
    "print(\"Evaluate on test data\")\n",
    "model.evaluate(test_generator, batch_size=128)"
   ]
  },
  {
   "cell_type": "code",
   "execution_count": 15,
   "id": "12fe9ff9",
   "metadata": {},
   "outputs": [],
   "source": [
    "class_labels = ['blues',\n",
    " 'classical',\n",
    " 'country',\n",
    " 'disco',\n",
    " 'hiphop',\n",
    " 'jazz',\n",
    " 'metal',\n",
    " 'pop',\n",
    " 'reggae',\n",
    " 'rock']"
   ]
  },
  {
   "cell_type": "code",
   "execution_count": 36,
   "id": "b38ce3c0",
   "metadata": {},
   "outputs": [],
   "source": [
    "def predict(image_data, model):\n",
    "  image = img_to_array(image_data)\n",
    "  image = np.reshape(image,(1,288,432,4))\n",
    "  prediction = model.predict(image/255)\n",
    "  prediction = prediction.reshape((10,)) \n",
    "  class_label = np.argmax(prediction)\n",
    "\n",
    "  print(class_label, prediction)\n",
    "    \n",
    "  fig,ax= plt.subplots(figsize=(6,4.5))\n",
    "  ax.bar(x= class_labels, height= prediction)\n",
    "  plt.xticks(rotation=45)\n",
    "  ax.set_title(\"CNN Solution\")\n",
    "  \n",
    "  plt.show()"
   ]
  },
  {
   "cell_type": "code",
   "execution_count": 85,
   "id": "c87c7a94",
   "metadata": {},
   "outputs": [
    {
     "name": "stdout",
     "output_type": "stream",
     "text": [
      "4 [2.0783331e-04 6.1571312e-16 8.1948874e-06 4.0899437e-11 9.9690706e-01\n",
      " 5.3353710e-22 2.8766422e-03 1.2720394e-11 2.0182070e-07 1.2515203e-08]\n"
     ]
    },
    {
     "data": {
      "image/png": "[encoded data removed]",
      "text/plain": [
       "<Figure size 432x324 with 1 Axes>"
      ]
     },
     "metadata": {
      "needs_background": "light"
     },
     "output_type": "display_data"
    }
   ],
   "source": [
    "image_data = load_img('Data\\images_original\\hiphop\\hiphop00068.png',color_mode='rgba',target_size=(288,432))\n",
    "predict(image_data, model)"
   ]
  },
  {
   "cell_type": "code",
   "execution_count": 84,
   "id": "a94e5f27",
   "metadata": {},
   "outputs": [
    {
     "name": "stdout",
     "output_type": "stream",
     "text": [
      "5 [2.2929208e-07 1.4778432e-06 2.9766973e-02 1.8945100e-02 8.2440552e-09\n",
      " 9.3870902e-01 1.1313169e-03 2.0159787e-08 1.4606264e-05 1.1431237e-02]\n"
     ]
    },
    {
     "data": {
      "image/png": "[encoded data removed]",
      "text/plain": [
       "<Figure size 432x324 with 1 Axes>"
      ]
     },
     "metadata": {
      "needs_background": "light"
     },
     "output_type": "display_data"
    }
   ],
   "source": [
    "image_data2 = load_img('Data\\images_original\\jazz\\jazz00055.png',color_mode='rgba',target_size=(288,432))\n",
    "predict(image_data2, model)"
   ]
  },
  {
   "cell_type": "code",
   "execution_count": 83,
   "id": "7df8ce2c",
   "metadata": {},
   "outputs": [
    {
     "name": "stdout",
     "output_type": "stream",
     "text": [
      "6 [2.4105683e-08 7.9260277e-25 2.1671730e-07 3.2191980e-17 2.4675373e-03\n",
      " 2.8200578e-34 9.9753213e-01 3.6262732e-22 6.5451672e-17 2.7806951e-10]\n"
     ]
    },
    {
     "data": {
      "image/png": "[encoded data removed]",
      "text/plain": [
       "<Figure size 432x324 with 1 Axes>"
      ]
     },
     "metadata": {
      "needs_background": "light"
     },
     "output_type": "display_data"
    }
   ],
   "source": [
    "image_data3 = load_img('Data\\images_original\\metal\\metal00096.png',color_mode='rgba',target_size=(288,432))\n",
    "predict(image_data3, model)"
   ]
  },
  {
   "cell_type": "code",
   "execution_count": 116,
   "id": "88d8c95f",
   "metadata": {},
   "outputs": [
    {
     "name": "stdout",
     "output_type": "stream",
     "text": [
      "3 [1.9970054e-03 1.0241794e-04 2.4234350e-03 6.8235928e-01 2.5409678e-01\n",
      " 2.7664396e-06 4.2873332e-03 5.3184580e-02 5.5538246e-04 9.9110173e-04]\n"
     ]
    },
    {
     "data": {
      "image/png": "[encoded data removed]",
      "text/plain": [
       "<Figure size 432x324 with 1 Axes>"
      ]
     },
     "metadata": {
      "needs_background": "light"
     },
     "output_type": "display_data"
    }
   ],
   "source": [
    "image_data4 = load_img('Data\\images_original\\disco\\disco00093.png',color_mode='rgba',target_size=(288,432))\n",
    "predict(image_data4, model)"
   ]
  },
  {
   "cell_type": "code",
   "execution_count": null,
   "id": "67955fb1",
   "metadata": {},
   "outputs": [],
   "source": []
  },
  {
   "cell_type": "code",
   "execution_count": null,
   "id": "91bcf949",
   "metadata": {},
   "outputs": [],
   "source": []
  }
 ],
 "metadata": {
  "kernelspec": {
   "display_name": "Python 3",
   "language": "python",
   "name": "python3"
  },
  "language_info": {
   "codemirror_mode": {
    "name": "ipython",
    "version": 3
   },
   "file_extension": ".py",
   "mimetype": "text/x-python",
   "name": "python",
   "nbconvert_exporter": "python",
   "pygments_lexer": "ipython3",
   "version": "3.8.8"
  }
 },
 "nbformat": 4,
 "nbformat_minor": 5
}
